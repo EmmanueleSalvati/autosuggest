{
 "cells": [
  {
   "cell_type": "markdown",
   "metadata": {},
   "source": [
    "# Notebook to create the data structure and generate suggestions"
   ]
  },
  {
   "cell_type": "markdown",
   "metadata": {},
   "source": [
    "## To generate the data structure:\n",
    "\n",
    "* create a directory data\n",
    "* run the main function of tst.py"
   ]
  },
  {
   "cell_type": "code",
   "execution_count": 2,
   "metadata": {
    "collapsed": true
   },
   "outputs": [],
   "source": [
    "from os import path\n",
    "from os import mkdir\n",
    "if not path.exists('data'):\n",
    "    os.mkdir('data')"
   ]
  },
  {
   "cell_type": "code",
   "execution_count": 4,
   "metadata": {
    "collapsed": false
   },
   "outputs": [
    {
     "name": "stdout",
     "output_type": "stream",
     "text": [
      "number of iterations: 23\n",
      "<open file 'data/data_model.pkl', mode 'wb' at 0x10d38ced0> data/documents-1.txt\n",
      "<open file 'data/data_model.pkl', mode 'wb' at 0x10d38ced0> data/documents-2.txt\n",
      "<open file 'data/data_model.pkl', mode 'wb' at 0x10d38ced0> data/documents-3.txt\n",
      "<open file 'data/data_model.pkl', mode 'wb' at 0x10d38ced0> data/documents-4.txt\n",
      "<open file 'data/data_model.pkl', mode 'wb' at 0x10d38ced0> data/documents-5.txt\n",
      "<open file 'data/data_model.pkl', mode 'wb' at 0x10d38ced0> data/documents-6.txt\n",
      "<open file 'data/data_model.pkl', mode 'wb' at 0x10d38ced0> data/documents-7.txt\n",
      "<open file 'data/data_model.pkl', mode 'wb' at 0x10d38ced0> data/documents-8.txt\n",
      "<open file 'data/data_model.pkl', mode 'wb' at 0x10d38ced0> data/documents-9.txt\n",
      "<open file 'data/data_model.pkl', mode 'wb' at 0x10d38ced0> data/documents-10.txt\n",
      "<open file 'data/data_model.pkl', mode 'wb' at 0x10d38ced0> data/documents-11.txt\n",
      "<open file 'data/data_model.pkl', mode 'wb' at 0x10d38ced0> data/documents-12.txt\n",
      "<open file 'data/data_model.pkl', mode 'wb' at 0x10d38ced0> data/documents-13.txt\n",
      "<open file 'data/data_model.pkl', mode 'wb' at 0x10d38ced0> data/documents-14.txt\n",
      "<open file 'data/data_model.pkl', mode 'wb' at 0x10d38ced0> data/documents-15.txt\n",
      "<open file 'data/data_model.pkl', mode 'wb' at 0x10d38ced0> data/documents-16.txt\n",
      "<open file 'data/data_model.pkl', mode 'wb' at 0x10d38ced0> data/documents-17.txt\n",
      "<open file 'data/data_model.pkl', mode 'wb' at 0x10d38ced0> data/documents-18.txt\n",
      "<open file 'data/data_model.pkl', mode 'wb' at 0x10d38ced0> data/documents-19.txt\n",
      "<open file 'data/data_model.pkl', mode 'wb' at 0x10d38ced0> data/documents-20.txt\n",
      "<open file 'data/data_model.pkl', mode 'wb' at 0x10d38ced0> data/documents-21.txt\n",
      "<open file 'data/data_model.pkl', mode 'wb' at 0x10d38ced0> data/documents-22.txt\n",
      "<open file 'data/data_model.pkl', mode 'wb' at 0x10d38ced0> data/documents-23.txt\n"
     ]
    }
   ],
   "source": [
    "%run tst.py"
   ]
  },
  {
   "cell_type": "markdown",
   "metadata": {},
   "source": [
    "## To generate suggestions\n",
    "run the following command, then look at your terminal"
   ]
  },
  {
   "cell_type": "code",
   "execution_count": 6,
   "metadata": {
    "collapsed": true
   },
   "outputs": [],
   "source": [
    "from tst import generate_suggestions\n",
    "generate_suggestions('h')"
   ]
  },
  {
   "cell_type": "code",
   "execution_count": null,
   "metadata": {
    "collapsed": true
   },
   "outputs": [],
   "source": []
  }
 ],
 "metadata": {
  "kernelspec": {
   "display_name": "Python 2",
   "language": "python",
   "name": "python2"
  },
  "language_info": {
   "codemirror_mode": {
    "name": "ipython",
    "version": 2
   },
   "file_extension": ".py",
   "mimetype": "text/x-python",
   "name": "python",
   "nbconvert_exporter": "python",
   "pygments_lexer": "ipython2",
   "version": "2.7.10"
  }
 },
 "nbformat": 4,
 "nbformat_minor": 0
}
